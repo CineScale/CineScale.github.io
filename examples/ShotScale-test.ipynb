{
 "cells": [
  {
   "cell_type": "code",
   "execution_count": null,
   "metadata": {},
   "outputs": [],
   "source": [
    "import bokeh\n",
    "import holoviews as hv\n",
    "from tqdm import tqdm\n",
    "import imageio\n",
    "import pandas as pd\n",
    "hv.extension('bokeh')"
   ]
  },
  {
   "cell_type": "code",
   "execution_count": null,
   "metadata": {},
   "outputs": [],
   "source": [
    "'''\n",
    "Created on August 2, 2017\n",
    "@author: msavardi\n",
    "'''\n",
    "import numpy as np\n",
    "import logging\n",
    "import os\n",
    "os.environ['TF_CPP_MIN_LOG_LEVEL'] = '2'\n",
    "from keras.models import load_model\n",
    "import tensorflow as tf  #version 1.13 or 1.14\n",
    "from PIL import Image as pil_image\n",
    "\n",
    "\n",
    "class Model:\n",
    "    def __init__(self, path):\n",
    "        config = tf.ConfigProto()\n",
    "        config.gpu_options.allow_growth = True\n",
    "\n",
    "        self.graph = tf.Graph()\n",
    "        with self.graph.as_default():\n",
    "            self.session = tf.Session(config=config)\n",
    "            with self.session.as_default():\n",
    "                self.model = load_model(path)\n",
    "\n",
    "    def predict(self, X):\n",
    "        with self.graph.as_default():\n",
    "            with self.session.as_default():\n",
    "                return self.model.predict(X)\n",
    "\n",
    "\n",
    "def load_shot_scale_cnn(model_weights, use_gpu):\n",
    "    if not use_gpu:\n",
    "        os.environ[\"CUDA_DEVICE_ORDER\"] = \"PCI_BUS_ID\"  # see issue #152\n",
    "        os.environ[\"CUDA_VISIBLE_DEVICES\"] = \"\"\n",
    "        device = \"/cpu:0\"\n",
    "    else:\n",
    "        device = \"/gpu:0\"\n",
    "\n",
    "    model = Model(model_weights)\n",
    "\n",
    "    return model\n",
    "\n",
    "\n",
    "def shot_scale(image, model, dims = (125, 224)):\n",
    "    width_height_tuple = (dims[1], dims[0])\n",
    "    cval = 0\n",
    "\n",
    "    try:\n",
    "        raw_img = pil_image.fromarray(image)\n",
    "\n",
    "        img = raw_img.copy()\n",
    "        img.thumbnail(width_height_tuple, pil_image.NEAREST)\n",
    "\n",
    "        final_img = pil_image.new(img.mode, width_height_tuple,\n",
    "                                  (cval if img.mode == 'L'\n",
    "                                   else (cval, cval, cval)))\n",
    "\n",
    "        final_img.paste(\n",
    "            img,\n",
    "            ((width_height_tuple[0] - img.size[0]) // 2,\n",
    "             (width_height_tuple[1] - img.size[1]) // 2)\n",
    "        )\n",
    "        image_c = np.asarray(final_img, dtype='float32') / 255.\n",
    "        image_bn = np.asarray(final_img.convert('LA').convert('RGB'), dtype='float32') / 255.\n",
    "        image = np.stack([image_c, image_bn], axis=0)\n",
    "\n",
    "        pp = np.sum(model.predict(image), axis=0)\n",
    "    except Exception as e:\n",
    "        logger.error(\"[{}] A loading error occour\".format(e))\n",
    "        return 0\n",
    "\n",
    "    return np.argmax(pp)  # ShotScale class"
   ]
  },
  {
   "cell_type": "code",
   "execution_count": null,
   "metadata": {
    "scrolled": true
   },
   "outputs": [],
   "source": [
    "model = load_shot_scale_cnn('model_shotscale_967.h5', use_gpu=True)"
   ]
  },
  {
   "cell_type": "code",
   "execution_count": null,
   "metadata": {},
   "outputs": [],
   "source": [
    "# Load movie and extract frame as images\n",
    "filename = '39__Pirates_of_the_Caribbean_-_Dead_Mans_Chest__2006__XviD_24p_dial-20LUFS.avi'"
   ]
  },
  {
   "cell_type": "code",
   "execution_count": null,
   "metadata": {},
   "outputs": [],
   "source": [
    "id2cls = ['CS', 'MS', 'LS']\n",
    "save = 0\n",
    "time_step = 1    # seconds\n",
    "\n",
    "vid = imageio.get_reader(filename,  'ffmpeg')\n",
    "movie = os.path.basename(filename)[:-4]\n",
    "print(movie)\n",
    "\n",
    "out = []\n",
    "pd_output = []\n",
    "# In case we use imageio\n",
    "nframe = vid.get_meta_data()['duration']* vid.get_meta_data()['fps']\n",
    "for num in tqdm(range(int(nframe//(vid.get_meta_data()['fps']*time_step)))):\n",
    "    try:\n",
    "        image = vid.get_data(int(time_step*num*vid.get_meta_data()['fps']))\n",
    "    except:\n",
    "        continue\n",
    "\n",
    "    preds = shot_scale(image, model)\n",
    "\n",
    "    out.append([num, preds, image])\n",
    "    pd_output.append([movie, num, id2cls[preds]])"
   ]
  },
  {
   "cell_type": "code",
   "execution_count": null,
   "metadata": {},
   "outputs": [],
   "source": [
    "pd.DataFrame(pd_output, columns=['movie','second', 'pred']).to_csv('results.csv')"
   ]
  },
  {
   "cell_type": "code",
   "execution_count": null,
   "metadata": {},
   "outputs": [],
   "source": [
    "v = {}\n",
    "box = hv.Box(0.4,0.45,spec=0.04).opts(color='white', line_width=10)\n",
    "for (t, p, array) in out:\n",
    "    img = np.asarray(array[::5,::5,:], dtype='float32') / 255.\n",
    "    v.update({t: (hv.RGB(img).opts(width=500) * box * hv.Text(0.4, 0.45, \"%s\"%id2cls[p])) })"
   ]
  },
  {
   "cell_type": "code",
   "execution_count": null,
   "metadata": {},
   "outputs": [],
   "source": [
    "hv.HoloMap(v, kdims=['Time'])"
   ]
  },
  {
   "cell_type": "code",
   "execution_count": null,
   "metadata": {},
   "outputs": [],
   "source": []
  }
 ],
 "metadata": {
  "kernelspec": {
   "display_name": "Python 3",
   "language": "python",
   "name": "python3"
  },
  "language_info": {
   "codemirror_mode": {
    "name": "ipython",
    "version": 3
   },
   "file_extension": ".py",
   "mimetype": "text/x-python",
   "name": "python",
   "nbconvert_exporter": "python",
   "pygments_lexer": "ipython3",
   "version": "3.8.5"
  },
  "toc-autonumbering": true
 },
 "nbformat": 4,
 "nbformat_minor": 4
}
